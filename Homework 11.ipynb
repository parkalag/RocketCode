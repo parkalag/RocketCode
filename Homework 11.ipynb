{
 "cells": [
  {
   "cell_type": "markdown",
   "metadata": {},
   "source": [
    "# AE 771 Homework 11\n",
    "### Written by Brendan"
   ]
  },
  {
   "cell_type": "markdown",
   "metadata": {},
   "source": [
    "## Imported Modules"
   ]
  },
  {
   "cell_type": "code",
   "execution_count": 1,
   "metadata": {},
   "outputs": [],
   "source": [
    "import matplotlib.pyplot as plt\n",
    "import numpy as np\n",
    "import pandas as pd\n",
    "import ipywidgets as widgets\n",
    "import time\n",
    "import math\n",
    "from IPython.display import display\n",
    "\n",
    "%run RocketEquations.py"
   ]
  },
  {
   "cell_type": "markdown",
   "metadata": {},
   "source": [
    "## Q1"
   ]
  },
  {
   "cell_type": "code",
   "execution_count": 2,
   "metadata": {},
   "outputs": [],
   "source": [
    "Question1 = widgets.Button(description=\"Question 1\")\n",
    "outputQ1 = widgets.Output()\n",
    "def Q1(b):\n",
    "    with outputQ1:\n",
    "        #A\n",
    "        n=np.linspace(0.0001,6,7)\n",
    "        MassS=0.1                    \n",
    "        MassP=0.01                   \n",
    "        du=n*np.log(1/((MassS+MassP**(1/n))))\n",
    "        plt.ylim(0,5)\n",
    "        plt.xlim(0,6)\n",
    "        plt.grid()\n",
    "        plt.xlabel('N')\n",
    "        plt.ylabel('du/c')\n",
    "        plt.title('Multistaging Effect on Velocity Increment\\n')\n",
    "        plt.plot(n,du)\n",
    "        plt.show()\n",
    "        \n",
    "        #B\n",
    "        R=6378           \n",
    "        R1=200*1.609344+R         \n",
    "        R2=2150*1.609344+R        \n",
    "        G=6.67 * 10**(-11) \n",
    "        M=5.972*10**24     \n",
    "        Ve1=math.sqrt(2*G*M/((R1)*1000))/1000\n",
    "        Ve2=math.sqrt(2*G*M/((R2)*1000))/1000\n",
    "        Vo1=math.sqrt(G*M/((R1)*1000))/1000\n",
    "        Vo2=math.sqrt(G*M/((R2)*1000))/1000\n",
    "        print('----------------Part B--------------')\n",
    "        print('200 miles:')\n",
    "        print('Escape Velocity:',round(Ve1*3281,2),'(ft/s)')\n",
    "        print('Orbital Velocity:',round(Vo1*3281,2),'(ft/s)\\n')\n",
    "        print('2150 miles:')\n",
    "        print('Escape Velocity:',round(Ve2*3281,2),'(ft/s)')\n",
    "        print('Orbital Velocity:',round(Vo2*3281,2),'(ft/s\\n)')\n",
    "\n",
    "        #C\n",
    "        R=R/1609.344\n",
    "        P=86164.09054 \n",
    "        Rg=((G*M*P**2)/(4*math.pi**2))**(1/3)\n",
    "        Rg=Rg/1609.344\n",
    "        alt=Rg-R\n",
    "        print('\\n--------------PartC---------------')\n",
    "        print('Geostationary Altitude:',round(alt,2),'(mi)')\n",
    "Question1.on_click(Q1)"
   ]
  },
  {
   "cell_type": "markdown",
   "metadata": {},
   "source": [
    "## Q2"
   ]
  },
  {
   "cell_type": "code",
   "execution_count": 3,
   "metadata": {},
   "outputs": [],
   "source": [
    "Question2 = widgets.Button(description=\"Question 2\")\n",
    "outputQ2 = widgets.Output()\n",
    "def Q2(b):\n",
    "    with outputQ2:\n",
    "        MassI=25000 # lbm\n",
    "        MassS=2000  # lbm\n",
    "        MassP=500   # lbm\n",
    "        \n",
    "        go=32.2\n",
    "        Isp=300\n",
    "        \n",
    "        SMR=MassS/MassI\n",
    "        PMR=MassP/MassI\n",
    "        \n",
    "        # Part A\n",
    "        print('\\n----------------A---------------')\n",
    "        dV=Isp*go*math.log(1/(SMR+PMR))\n",
    "        print('Velocity Increment:',round(dV,2),'(ft/s)\\n')\n",
    "        \n",
    "        # Part B\n",
    "        print('\\n----------------B---------------')\n",
    "        print('The dV required to enter orbit is not achieved by this vehicle.')\n",
    "        \n",
    "\n",
    "Question2.on_click(Q2)"
   ]
  },
  {
   "cell_type": "markdown",
   "metadata": {},
   "source": [
    "## Q3"
   ]
  },
  {
   "cell_type": "code",
   "execution_count": 4,
   "metadata": {},
   "outputs": [],
   "source": [
    "Question3 = widgets.Button(description=\"Question 3\")\n",
    "outputQ3 = widgets.Output()\n",
    "def Q3(b):\n",
    "    with outputQ3:\n",
    "        du=10000    # m/s\n",
    "        go=9.81\n",
    "        m2o=12000   # kg\n",
    "        m2p=9000    # kg\n",
    "        m1s=8000    # kg\n",
    "        m2s=m2o-m2p # kg\n",
    "        m2pay=2000   # kg\n",
    "        \n",
    "        SMR2=m2s/(m2o+m2pay)\n",
    "        PMR2=m2pay/(m2o+m2pay)\n",
    "        \n",
    "        Isp1=350\n",
    "        Isp2=400\n",
    "        \n",
    "        du2=Isp2*go*math.log(1/(SMR2+PMR2))\n",
    "        dust=du-du2\n",
    "        du1=0\n",
    "        \n",
    "        m1pay=m2o+m2pay\n",
    "        m1o=m1s\n",
    "        m1p=0\n",
    "        \n",
    "        while du1<dust:\n",
    "            du1=Isp1*go*math.log(1/((m1s/m1o)+(m1pay/m1o)))\n",
    "            m1p=m1p+0.1\n",
    "            m1o=m1p+m1s+m1pay\n",
    "            \n",
    "        mtot=m1o\n",
    "        \n",
    "        dutot=du1+du2\n",
    "        print('Stage 1 Fuel Mass:', round(m1p,2),'(kg)')\n",
    "        print('Mass at Liftoff:', round(mtot,2),'(kg)')\n",
    "        \n",
    "        \n",
    "Question3.on_click(Q3)"
   ]
  },
  {
   "cell_type": "markdown",
   "metadata": {},
   "source": [
    "## Outputs"
   ]
  },
  {
   "cell_type": "code",
   "execution_count": 5,
   "metadata": {},
   "outputs": [
    {
     "data": {
      "application/vnd.jupyter.widget-view+json": {
       "model_id": "4445b4f16c2649b384c8e93ebdfa0187",
       "version_major": 2,
       "version_minor": 0
      },
      "text/plain": [
       "Button(description='Question 1', style=ButtonStyle())"
      ]
     },
     "metadata": {},
     "output_type": "display_data"
    },
    {
     "data": {
      "application/vnd.jupyter.widget-view+json": {
       "model_id": "6b6c9f67214f41adac27a042c9df88b3",
       "version_major": 2,
       "version_minor": 0
      },
      "text/plain": [
       "Output()"
      ]
     },
     "metadata": {},
     "output_type": "display_data"
    },
    {
     "data": {
      "application/vnd.jupyter.widget-view+json": {
       "model_id": "af8cccdaa6714abab2353fd2ba0d20b8",
       "version_major": 2,
       "version_minor": 0
      },
      "text/plain": [
       "Button(description='Question 2', style=ButtonStyle())"
      ]
     },
     "metadata": {},
     "output_type": "display_data"
    },
    {
     "data": {
      "application/vnd.jupyter.widget-view+json": {
       "model_id": "54529c9f30b740d988eb5b8856b7df16",
       "version_major": 2,
       "version_minor": 0
      },
      "text/plain": [
       "Output()"
      ]
     },
     "metadata": {},
     "output_type": "display_data"
    },
    {
     "data": {
      "application/vnd.jupyter.widget-view+json": {
       "model_id": "4192df579b164f2aa5099b8da83c2ac0",
       "version_major": 2,
       "version_minor": 0
      },
      "text/plain": [
       "Button(description='Question 3', style=ButtonStyle())"
      ]
     },
     "metadata": {},
     "output_type": "display_data"
    },
    {
     "data": {
      "application/vnd.jupyter.widget-view+json": {
       "model_id": "55bb71112e0f4223860d47a29069b253",
       "version_major": 2,
       "version_minor": 0
      },
      "text/plain": [
       "Output()"
      ]
     },
     "metadata": {},
     "output_type": "display_data"
    }
   ],
   "source": [
    "display(Question1, outputQ1)\n",
    "display(Question2, outputQ2)\n",
    "display(Question3, outputQ3)"
   ]
  }
 ],
 "metadata": {
  "kernelspec": {
   "display_name": "Python 3",
   "language": "python",
   "name": "python3"
  },
  "language_info": {
   "codemirror_mode": {
    "name": "ipython",
    "version": 3
   },
   "file_extension": ".py",
   "mimetype": "text/x-python",
   "name": "python",
   "nbconvert_exporter": "python",
   "pygments_lexer": "ipython3",
   "version": "3.7.4"
  }
 },
 "nbformat": 4,
 "nbformat_minor": 2
}
