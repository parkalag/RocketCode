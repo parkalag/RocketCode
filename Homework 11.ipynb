{
 "cells": [
  {
   "cell_type": "markdown",
   "metadata": {},
   "source": [
    "# AE 771 Homework 11\n",
    "### Written by Brendan"
   ]
  },
  {
   "cell_type": "markdown",
   "metadata": {},
   "source": [
    "## Imported Modules"
   ]
  },
  {
   "cell_type": "code",
   "execution_count": 1,
   "metadata": {},
   "outputs": [],
   "source": [
    "import matplotlib.pyplot as plt\n",
    "import numpy as np\n",
    "import pandas as pd\n",
    "import ipywidgets as widgets\n",
    "import time\n",
    "import math\n",
    "from IPython.display import display\n",
    "\n",
    "%run RocketEquations.py"
   ]
  },
  {
   "cell_type": "markdown",
   "metadata": {},
   "source": [
    "## Q1"
   ]
  },
  {
   "cell_type": "code",
   "execution_count": 2,
   "metadata": {},
   "outputs": [],
   "source": [
    "Question1 = widgets.Button(description=\"Question 1\")\n",
    "outputQ1 = widgets.Output()\n",
    "def Q1(b):\n",
    "    with outputQ1:\n",
    "        lmo=1\n",
    "Question1.on_click(Q1)"
   ]
  },
  {
   "cell_type": "markdown",
   "metadata": {},
   "source": [
    "## Q2"
   ]
  },
  {
   "cell_type": "code",
   "execution_count": 3,
   "metadata": {},
   "outputs": [],
   "source": [
    "Question2 = widgets.Button(description=\"Question 2\")\n",
    "outputQ2 = widgets.Output()\n",
    "def Q2(b):\n",
    "    with outputQ2:\n",
    "        MassI=25000 # lbm\n",
    "        MassS=2000  # lbm\n",
    "        MassP=500   # lbm\n",
    "        \n",
    "        go=32.2\n",
    "        Isp=300\n",
    "        \n",
    "        SMR=MassS/MassI\n",
    "        PMR=MassP/MassI\n",
    "        \n",
    "        # Part A\n",
    "        print('\\n----------------A---------------')\n",
    "        dV=Isp*go*math.log(1/(SMR+PMR))\n",
    "        print('Velocity Increment:',round(dV,2),'(ft/s)\\n')\n",
    "        \n",
    "        # Part B\n",
    "        print('\\n----------------B---------------')\n",
    "        print('The dV required to enter orbit is not achieved by this vehicle.')\n",
    "        \n",
    "\n",
    "Question2.on_click(Q2)"
   ]
  },
  {
   "cell_type": "markdown",
   "metadata": {},
   "source": [
    "## Q3"
   ]
  },
  {
   "cell_type": "code",
   "execution_count": 4,
   "metadata": {},
   "outputs": [],
   "source": [
    "Question3 = widgets.Button(description=\"Question 3\")\n",
    "outputQ3 = widgets.Output()\n",
    "def Q3(b):\n",
    "    with outputQ3:\n",
    "        du=10000    # m/s\n",
    "        go=9.81\n",
    "        m2o=12000   # kg\n",
    "        m2p=9000    # kg\n",
    "        m1s=8000    # kg\n",
    "        m2s=m2o-m2p # kg\n",
    "        m2pay=2000   # kg\n",
    "        \n",
    "        SMR2=m2s/m2o\n",
    "        PMR2=m2pay/m2o\n",
    "        \n",
    "        Isp1=350\n",
    "        Isp2=400\n",
    "        \n",
    "        du2=Isp2*go*math.log(1/(SMR2+PMR2))\n",
    "        dust=du-du2\n",
    "        du1=0\n",
    "        \n",
    "        m1pay=m2o+m2pay\n",
    "        m1o=m1s\n",
    "        m1p=0\n",
    "        \n",
    "        while du1<dust:\n",
    "            du1=Isp1*go*math.log(1/((m1s/m1o)+(m1pay/m1o)))\n",
    "            m1p=m1p+0.1\n",
    "            m1o=m1p+m1s+m1pay\n",
    "            \n",
    "        mtot=m1o+m2o\n",
    "        print('Stage 1 Fuel Mass:', round(m1p,2),'(kg)')\n",
    "        print('Mass at Liftoff:', round(mtot,2),'(kg)')\n",
    "Question3.on_click(Q3)"
   ]
  },
  {
   "cell_type": "markdown",
   "metadata": {},
   "source": [
    "## Outputs"
   ]
  },
  {
   "cell_type": "code",
   "execution_count": 5,
   "metadata": {},
   "outputs": [
    {
     "data": {
      "application/vnd.jupyter.widget-view+json": {
       "model_id": "5716344c91a643babd597153ced1f9d5",
       "version_major": 2,
       "version_minor": 0
      },
      "text/plain": [
       "Button(description='Question 1', style=ButtonStyle())"
      ]
     },
     "metadata": {},
     "output_type": "display_data"
    },
    {
     "data": {
      "application/vnd.jupyter.widget-view+json": {
       "model_id": "ff577d08a2a7410d871b537e93a42940",
       "version_major": 2,
       "version_minor": 0
      },
      "text/plain": [
       "Output()"
      ]
     },
     "metadata": {},
     "output_type": "display_data"
    },
    {
     "data": {
      "application/vnd.jupyter.widget-view+json": {
       "model_id": "09faeb0d025c4a8a9a55b4c83c3e47a7",
       "version_major": 2,
       "version_minor": 0
      },
      "text/plain": [
       "Button(description='Question 2', style=ButtonStyle())"
      ]
     },
     "metadata": {},
     "output_type": "display_data"
    },
    {
     "data": {
      "application/vnd.jupyter.widget-view+json": {
       "model_id": "6bca78d7e43b4adb8afb5ffd83dbf03d",
       "version_major": 2,
       "version_minor": 0
      },
      "text/plain": [
       "Output()"
      ]
     },
     "metadata": {},
     "output_type": "display_data"
    },
    {
     "data": {
      "application/vnd.jupyter.widget-view+json": {
       "model_id": "5eeba1c3030345aaad5a8ee3eb4a0e81",
       "version_major": 2,
       "version_minor": 0
      },
      "text/plain": [
       "Button(description='Question 3', style=ButtonStyle())"
      ]
     },
     "metadata": {},
     "output_type": "display_data"
    },
    {
     "data": {
      "application/vnd.jupyter.widget-view+json": {
       "model_id": "02dc93a319de4203ad37de4987568c8b",
       "version_major": 2,
       "version_minor": 0
      },
      "text/plain": [
       "Output()"
      ]
     },
     "metadata": {},
     "output_type": "display_data"
    }
   ],
   "source": [
    "display(Question1, outputQ1)\n",
    "display(Question2, outputQ2)\n",
    "display(Question3, outputQ3)"
   ]
  }
 ],
 "metadata": {
  "kernelspec": {
   "display_name": "Python 3",
   "language": "python",
   "name": "python3"
  },
  "language_info": {
   "codemirror_mode": {
    "name": "ipython",
    "version": 3
   },
   "file_extension": ".py",
   "mimetype": "text/x-python",
   "name": "python",
   "nbconvert_exporter": "python",
   "pygments_lexer": "ipython3",
   "version": "3.7.4"
  }
 },
 "nbformat": 4,
 "nbformat_minor": 2
}
