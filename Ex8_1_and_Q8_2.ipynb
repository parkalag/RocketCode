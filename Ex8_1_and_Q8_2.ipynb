{
 "cells": [
  {
   "cell_type": "markdown",
   "metadata": {},
   "source": [
    "# AE 771 Exam 2"
   ]
  },
  {
   "cell_type": "markdown",
   "metadata": {},
   "source": [
    "## Imported Modules"
   ]
  },
  {
   "cell_type": "code",
   "execution_count": 1,
   "metadata": {},
   "outputs": [
    {
     "name": "stdout",
     "output_type": "stream",
     "text": [
      "[3.4, 0.21, 0.26, 2959, 2428, 8.9, 386, 1.26]\n"
     ]
    }
   ],
   "source": [
    "import matplotlib.pyplot as plt\n",
    "import numpy as np\n",
    "import pandas as pd\n",
    "import ipywidgets as widgets\n",
    "import time\n",
    "import math\n",
    "from IPython.display import display\n",
    "\n",
    "%run RocketEquations.py"
   ]
  },
  {
   "cell_type": "markdown",
   "metadata": {},
   "source": [
    "## Example 8-1"
   ]
  },
  {
   "cell_type": "code",
   "execution_count": 2,
   "metadata": {},
   "outputs": [],
   "source": [
    "Example8_1 = widgets.Button(description=\"Example 8-1\")\n",
    "outputex81 = widgets.Output()\n",
    "def ex81(b):\n",
    "    with outputex81:\n",
    "        tw=0.000445 # Wall thickness in meters\n",
    "        K=43.24     # Conductivity 'K' \n",
    "        Tg=3033       # Gas temp K\n",
    "        TL=311.1      # Liquid Temp K\n",
    "        hgi=147        # Gas-film coeff\n",
    "        hli=20590     # Liquid-film coeff\n",
    "        qi=((Tg-TL)/(1/hgi+tw/K+1/hli))\n",
    "        hgm=[0.50,1.00,2.00,4.00,1.00,1.00,1.00,1.00]\n",
    "        hlm=[1.00,1.00,1.00,1.00,0.50,0.25,0.125,0.0625]\n",
    "        \n",
    "        print('Gas Film %  ','Liquid Film %  ','Change in Heat Transfer %  ','Gas Side Wall T   ','Liquid Side Wall T   ')\n",
    "        for i in range(0,8):\n",
    "            hg=hgi*hgm[i]\n",
    "            hl=hli*hlm[i]\n",
    "            \n",
    "            q=(Tg-TL)/((1/hg)+(tw/K)+(1/hl))\n",
    "            dq=(q/qi)*100\n",
    "            Twg=(-(q/hg-Tg))\n",
    "            Twl=((q/hl+TL))\n",
    "            \n",
    "            print('{0:.0f}'.format(hgm[i]*100),'          ',\n",
    "                  '{0:.0f}'.format(hlm[i]*100),'              ',\n",
    "                  '{0:.0f}'.format(dq),'                      ',\n",
    "                  '{0:.1f}'.format(Twg),'               ',\n",
    "                  '{0:.1f}'.format(Twl))\n",
    "Example8_1.on_click(ex81)"
   ]
  },
  {
   "cell_type": "markdown",
   "metadata": {},
   "source": [
    "## Problem 8-2"
   ]
  },
  {
   "cell_type": "code",
   "execution_count": 3,
   "metadata": {},
   "outputs": [],
   "source": [
    "Example8_2 = widgets.Button(description=\"Problem 8-2\")\n",
    "outputex82 = widgets.Output()\n",
    "def ex82(b):\n",
    "    with outputex82:\n",
    "        Tw=100         # Water temp \n",
    "        Kw=1.07*10**-4 # Water conductivity\n",
    "        Tg=4500        # Temp of gas\n",
    "        SGw=1          # Specific gravity water\n",
    "        Visc=2.5*10**-5*32.174# Viscosity\n",
    "        SHw=1.3        # Specific heat water\n",
    "        PW=0.25/12     # Passage width\n",
    "        PH=0.5/12      # Passage Height\n",
    "        mdot=0.585     # water mas flow\n",
    "        tw=0.125/12    # wall thickness\n",
    "        q=1.3       # heat absorbtion\n",
    "        Km=26          # Material conductivity\n",
    "        \n",
    "        PA=PW*PH       # Passage Area\n",
    "        PP=(PW+PH)*2   # Passage Perimeter\n",
    "        PD=4*(PA/PP)   # Passage Diameter\n",
    "        \n",
    "        rho=62.43\n",
    "        Vw=mdot/(rho*PA)\n",
    "        hl=(0.023*SHw*(mdot/PA)*(PD*Vw*rho/Visc)**(-0.2)*(Visc*SHw/Kw)**(-2/3))/144\n",
    "        \n",
    "        Tww=q/hl+Tw\n",
    "        Twg=q*tw*12/(Km/3600/12)+Tww\n",
    "        \n",
    "        print('Film Coefficient of the Coolant:','{0:.4f}'.format(hl),'Btu/ft^2-sec-degF')\n",
    "        print('Temperature of the Collant Wall:','{0:.3f}'.format(Tww),'degF')\n",
    "        print('Temperature of the Gas Wall:','{0:.3f}'.format(Twg),'degF')\n",
    "        \n",
    "        \n",
    "Example8_2.on_click(ex82)"
   ]
  },
  {
   "cell_type": "code",
   "execution_count": 4,
   "metadata": {},
   "outputs": [
    {
     "data": {
      "application/vnd.jupyter.widget-view+json": {
       "model_id": "6bfcf7fa9f5e4f6d807b9474dcfb1bc0",
       "version_major": 2,
       "version_minor": 0
      },
      "text/plain": [
       "Button(description='Example 8-1', style=ButtonStyle())"
      ]
     },
     "metadata": {},
     "output_type": "display_data"
    },
    {
     "data": {
      "application/vnd.jupyter.widget-view+json": {
       "model_id": "64fc9e89cfaf4cf3beb3bfe8d468c9b2",
       "version_major": 2,
       "version_minor": 0
      },
      "text/plain": [
       "Output()"
      ]
     },
     "metadata": {},
     "output_type": "display_data"
    },
    {
     "data": {
      "application/vnd.jupyter.widget-view+json": {
       "model_id": "b0184ac2d2e2460f830280bab3736dcd",
       "version_major": 2,
       "version_minor": 0
      },
      "text/plain": [
       "Button(description='Problem 8-2', style=ButtonStyle())"
      ]
     },
     "metadata": {},
     "output_type": "display_data"
    },
    {
     "data": {
      "application/vnd.jupyter.widget-view+json": {
       "model_id": "48eb392b4dc84b6f80943442061aafc9",
       "version_major": 2,
       "version_minor": 0
      },
      "text/plain": [
       "Output()"
      ]
     },
     "metadata": {},
     "output_type": "display_data"
    }
   ],
   "source": [
    "display(Example8_1, outputex81)\n",
    "display(Example8_2, outputex82)"
   ]
  }
 ],
 "metadata": {
  "kernelspec": {
   "display_name": "Python 3",
   "language": "python",
   "name": "python3"
  },
  "language_info": {
   "codemirror_mode": {
    "name": "ipython",
    "version": 3
   },
   "file_extension": ".py",
   "mimetype": "text/x-python",
   "name": "python",
   "nbconvert_exporter": "python",
   "pygments_lexer": "ipython3",
   "version": "3.7.4"
  }
 },
 "nbformat": 4,
 "nbformat_minor": 2
}
