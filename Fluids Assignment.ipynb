{
 "cells": [
  {
   "cell_type": "markdown",
   "metadata": {},
   "source": [
    "# Fluids Assignment"
   ]
  },
  {
   "cell_type": "code",
   "execution_count": 1,
   "metadata": {},
   "outputs": [],
   "source": [
    "import matplotlib.pyplot as plt\n",
    "import numpy as np\n",
    "import pandas as pd\n",
    "import ipywidgets as widgets\n",
    "import time\n",
    "import math\n",
    "from IPython.display import display\n",
    "\n",
    "%run RocketEquations.py"
   ]
  },
  {
   "cell_type": "markdown",
   "metadata": {},
   "source": [
    "## Calculations Code"
   ]
  },
  {
   "cell_type": "code",
   "execution_count": 2,
   "metadata": {},
   "outputs": [
    {
     "name": "stdout",
     "output_type": "stream",
     "text": [
      "Epsilon over Diameter: 0.012\n",
      "Pressure Drop: 10782.9 (Pa)\n"
     ]
    }
   ],
   "source": [
    "w=0.010417 #ft\n",
    "h=0.015625 #ft\n",
    "L=6.91667 #ft\n",
    "gam=60.5 #lb/ft^3\n",
    "V=21     #ft/sec\n",
    "Re=16000 #Reynold's number\n",
    "g=32.174 #gravity\n",
    "\n",
    "rho=gam/g #density\n",
    "\n",
    "PA=w*h       # Passage Area\n",
    "PP=(w+h)*2   # Passage Perimeter\n",
    "PD=4*(PA/PP)   # Passage Diameter\n",
    "\n",
    "E=0.00015     # commercial steel\n",
    "ED=E/PD\n",
    "\n",
    "f=0.047       # from the chart\n",
    "\n",
    "dp=f*(L/PD)*0.5*rho*V**2\n",
    "\n",
    "print('Epsilon over Diameter:',round(ED,3))\n",
    "print('Pressure Drop:',round(dp,1),'(Pa)')"
   ]
  }
 ],
 "metadata": {
  "kernelspec": {
   "display_name": "Python 3",
   "language": "python",
   "name": "python3"
  },
  "language_info": {
   "codemirror_mode": {
    "name": "ipython",
    "version": 3
   },
   "file_extension": ".py",
   "mimetype": "text/x-python",
   "name": "python",
   "nbconvert_exporter": "python",
   "pygments_lexer": "ipython3",
   "version": "3.7.4"
  }
 },
 "nbformat": 4,
 "nbformat_minor": 2
}
